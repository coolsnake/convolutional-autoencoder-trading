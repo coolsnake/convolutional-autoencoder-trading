{
 "cells": [
  {
   "cell_type": "code",
   "execution_count": 1,
   "metadata": {},
   "outputs": [],
   "source": [
    "import numpy as np\n",
    "import matplotlib.pyplot as plt\n",
    "from sklearn.preprocessing import MinMaxScaler\n",
    "from kernel import load_min_data, prepare_data, NetModel"
   ]
  },
  {
   "cell_type": "code",
   "execution_count": 2,
   "metadata": {},
   "outputs": [
    {
     "data": {
      "text/html": [
       "<div>\n",
       "<style scoped>\n",
       "    .dataframe tbody tr th:only-of-type {\n",
       "        vertical-align: middle;\n",
       "    }\n",
       "\n",
       "    .dataframe tbody tr th {\n",
       "        vertical-align: top;\n",
       "    }\n",
       "\n",
       "    .dataframe thead th {\n",
       "        text-align: right;\n",
       "    }\n",
       "</style>\n",
       "<table border=\"1\" class=\"dataframe\">\n",
       "  <thead>\n",
       "    <tr style=\"text-align: right;\">\n",
       "      <th></th>\n",
       "      <th>high</th>\n",
       "      <th>open</th>\n",
       "      <th>low</th>\n",
       "      <th>close</th>\n",
       "      <th>volume</th>\n",
       "      <th>oi</th>\n",
       "    </tr>\n",
       "    <tr>\n",
       "      <th>time</th>\n",
       "      <th></th>\n",
       "      <th></th>\n",
       "      <th></th>\n",
       "      <th></th>\n",
       "      <th></th>\n",
       "      <th></th>\n",
       "    </tr>\n",
       "  </thead>\n",
       "  <tbody>\n",
       "    <tr>\n",
       "      <th>2016-05-13 14:00:00</th>\n",
       "      <td>645</td>\n",
       "      <td>632</td>\n",
       "      <td>632</td>\n",
       "      <td>645</td>\n",
       "      <td>148052</td>\n",
       "      <td>3570070</td>\n",
       "    </tr>\n",
       "    <tr>\n",
       "      <th>2016-05-13 14:05:00</th>\n",
       "      <td>647</td>\n",
       "      <td>644</td>\n",
       "      <td>639</td>\n",
       "      <td>640</td>\n",
       "      <td>202724</td>\n",
       "      <td>3586682</td>\n",
       "    </tr>\n",
       "    <tr>\n",
       "      <th>2016-05-13 14:10:00</th>\n",
       "      <td>643</td>\n",
       "      <td>640</td>\n",
       "      <td>636</td>\n",
       "      <td>641</td>\n",
       "      <td>94164</td>\n",
       "      <td>3578016</td>\n",
       "    </tr>\n",
       "    <tr>\n",
       "      <th>2016-05-13 14:15:00</th>\n",
       "      <td>655</td>\n",
       "      <td>640</td>\n",
       "      <td>634</td>\n",
       "      <td>651</td>\n",
       "      <td>333452</td>\n",
       "      <td>3612632</td>\n",
       "    </tr>\n",
       "    <tr>\n",
       "      <th>2016-05-13 14:20:00</th>\n",
       "      <td>657</td>\n",
       "      <td>652</td>\n",
       "      <td>639</td>\n",
       "      <td>641</td>\n",
       "      <td>300840</td>\n",
       "      <td>3585022</td>\n",
       "    </tr>\n",
       "  </tbody>\n",
       "</table>\n",
       "</div>"
      ],
      "text/plain": [
       "                     high  open  low  close  volume       oi\n",
       "time                                                        \n",
       "2016-05-13 14:00:00   645   632  632    645  148052  3570070\n",
       "2016-05-13 14:05:00   647   644  639    640  202724  3586682\n",
       "2016-05-13 14:10:00   643   640  636    641   94164  3578016\n",
       "2016-05-13 14:15:00   655   640  634    651  333452  3612632\n",
       "2016-05-13 14:20:00   657   652  639    641  300840  3585022"
      ]
     },
     "execution_count": 2,
     "metadata": {},
     "output_type": "execute_result"
    }
   ],
   "source": [
    "train_end = '2018-05-13 00:00' # we use 2016 - 2018 for training\n",
    "df_train, df_test = load_min_data()\n",
    "df_train.head()"
   ]
  },
  {
   "cell_type": "markdown",
   "metadata": {},
   "source": [
    "## Prepare Data for Model\n",
    "> - transform data into images consisting the past 1000 points <br>\n",
    "> - aim to predict the return after 3 periods = 15 mins <br>\n",
    "> - next split training data into training set and validation set (for model selection) <br>"
   ]
  },
  {
   "cell_type": "code",
   "execution_count": 3,
   "metadata": {},
   "outputs": [
    {
     "name": "stdout",
     "output_type": "stream",
     "text": [
      "training set size: 8682, array shape: (8682, 1000, 6, 1)\n",
      "validation set size: 3721, and array shape: (3721, 1000, 6, 1)\n"
     ]
    }
   ],
   "source": [
    "time_window = 1000\n",
    "forecast_period = 3\n",
    "X_train, X_valid, y_train, y_valid = prepare_data(df_train, time_window, forecast_period)\n",
    "print(f'training set size: {X_train.shape[0]}, array shape: {X_train.shape}')\n",
    "print(f'validation set size: {X_valid.shape[0]}, and array shape: {X_valid.shape}')"
   ]
  },
  {
   "cell_type": "markdown",
   "metadata": {},
   "source": [
    "## Build Convolution AutoEncoder Network\n",
    "> The reommanded number of filters is (64, 32, 16). <br>\n",
    "> If you don't have a GPU-accelerated machine, use small number of filters such as (16, 8, 8). Or try google colab."
   ]
  },
  {
   "cell_type": "code",
   "execution_count": 4,
   "metadata": {},
   "outputs": [
    {
     "name": "stdout",
     "output_type": "stream",
     "text": [
      "shape of input (None, 1000, 6, 1)\n",
      "shape after first conv (None, 1000, 6, 32)\n",
      "shape after first pooling (None, 200, 6, 32)\n",
      "shape after second conv (None, 200, 6, 16)\n",
      "shape after second pooling (None, 40, 6, 16)\n",
      "shape after third conv (None, 40, 6, 8)\n",
      "shape of encoded (None, 8, 6, 8)\n",
      "shape after upsample third pooling (None, 40, 6, 8)\n",
      "shape after decode third conv (None, 40, 6, 8)\n",
      "shape after upsample second pooling (None, 200, 6, 8)\n",
      "shape after decode second conv (None, 200, 6, 16)\n",
      "shape after upsample first pooling (None, 1000, 6, 16)\n",
      "shape after decode first conv (None, 1000, 6, 32)\n",
      "shape after decode to input (None, 1000, 6, 1)\n"
     ]
    }
   ],
   "source": [
    "net = NetModel(X_train, X_valid, y_train, y_valid)\n",
    "conv_window=(3, 3)\n",
    "pooling_window=(5, 1)\n",
    "n_filters=(32, 16, 8)\n",
    "net.build_net(conv_window, pooling_window, n_filters)"
   ]
  },
  {
   "cell_type": "markdown",
   "metadata": {},
   "source": [
    "## Train AutoEncoder and Examine the Reconstruction"
   ]
  },
  {
   "cell_type": "code",
   "execution_count": 5,
   "metadata": {},
   "outputs": [
    {
     "name": "stdout",
     "output_type": "stream",
     "text": [
      "Epoch 1/3\n",
      "8682/8682 [==============================] - 174s 20ms/step - loss: 1472.3104\n",
      "Epoch 2/3\n",
      "8682/8682 [==============================] - 206s 24ms/step - loss: 377.1670\n",
      "Epoch 3/3\n",
      "8682/8682 [==============================] - 197s 23ms/step - loss: 355.8918\n"
     ]
    }
   ],
   "source": [
    "epoches = 3\n",
    "batch_size = 64\n",
    "net.train_encoder(epoches, batch_size)"
   ]
  },
  {
   "cell_type": "code",
   "execution_count": 6,
   "metadata": {},
   "outputs": [
    {
     "data": {
      "image/png": "[encoded data removed]",
      "text/plain": [
       "<Figure size 432x288 with 2 Axes>"
      ]
     },
     "metadata": {
      "needs_background": "light"
     },
     "output_type": "display_data"
    }
   ],
   "source": [
    "net.get_encoded_series()\n",
    "img = X_train[0][:, :, 0].copy()\n",
    "img_c = net.reconstructed_train[0][:, :, 0].copy()\n",
    "img_c = (MinMaxScaler().fit_transform(img_c) * 255).astype('int')\n",
    "\n",
    "b=20\n",
    "f, (ax1, ax2) = plt.subplots(1, 2, sharey=True)\n",
    "ax1.imshow(img[6*(b-1):6*b, :])\n",
    "ax2.imshow(img_c[6*(b-1):6*b, :])\n",
    "plt.show()"
   ]
  },
  {
   "cell_type": "markdown",
   "metadata": {},
   "source": [
    "## Train Asset Return Predictor\n",
    "- 'rf' means random forest classifier\n",
    "- 'xgb' is XGBoost classifier\n",
    "- 'n_search' is the number of random grid-search to perform"
   ]
  },
  {
   "cell_type": "code",
   "execution_count": 10,
   "metadata": {},
   "outputs": [
    {
     "name": "stdout",
     "output_type": "stream",
     "text": [
      "training acc: 0.6446671273900023\n",
      "              precision    recall  f1-score   support\n",
      "\n",
      "         0.0       0.49      0.15      0.23      1697\n",
      "         1.0       0.55      0.87      0.67      2024\n",
      "\n",
      "   micro avg       0.54      0.54      0.54      3721\n",
      "   macro avg       0.52      0.51      0.45      3721\n",
      "weighted avg       0.52      0.54      0.47      3721\n",
      "\n",
      "145.05216813087463\n"
     ]
    }
   ],
   "source": [
    "import time\n",
    "start_time = time.time()\n",
    "net.train_classifier('rf', n_search=10)\n",
    "print(time.time() - start_time)"
   ]
  },
  {
   "cell_type": "markdown",
   "metadata": {},
   "source": [
    "## Applying Strategy"
   ]
  },
  {
   "cell_type": "code",
   "execution_count": null,
   "metadata": {},
   "outputs": [],
   "source": []
  }
 ],
 "metadata": {
  "kernelspec": {
   "display_name": "Python 3",
   "language": "python",
   "name": "python3"
  },
  "language_info": {
   "codemirror_mode": {
    "name": "ipython",
    "version": 3
   },
   "file_extension": ".py",
   "mimetype": "text/x-python",
   "name": "python",
   "nbconvert_exporter": "python",
   "pygments_lexer": "ipython3",
   "version": "3.6.7"
  }
 },
 "nbformat": 4,
 "nbformat_minor": 2
}
